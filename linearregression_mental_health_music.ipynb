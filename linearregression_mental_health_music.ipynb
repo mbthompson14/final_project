{
 "cells": [
  {
   "cell_type": "code",
   "execution_count": 1,
   "metadata": {},
   "outputs": [],
   "source": [
    "import warnings\n",
    "warnings.filterwarnings('ignore')"
   ]
  },
  {
   "cell_type": "code",
   "execution_count": 2,
   "metadata": {},
   "outputs": [],
   "source": [
    "import numpy as np\n",
    "import pandas as pd\n",
    "from pathlib import Path\n",
    "from collections import Counter\n",
    "import matplotlib.pyplot as plt\n"
   ]
  },
  {
   "cell_type": "code",
   "execution_count": 3,
   "metadata": {},
   "outputs": [
    {
     "data": {
      "text/html": [
       "<div>\n",
       "<style scoped>\n",
       "    .dataframe tbody tr th:only-of-type {\n",
       "        vertical-align: middle;\n",
       "    }\n",
       "\n",
       "    .dataframe tbody tr th {\n",
       "        vertical-align: top;\n",
       "    }\n",
       "\n",
       "    .dataframe thead th {\n",
       "        text-align: right;\n",
       "    }\n",
       "</style>\n",
       "<table border=\"1\" class=\"dataframe\">\n",
       "  <thead>\n",
       "    <tr style=\"text-align: right;\">\n",
       "      <th></th>\n",
       "      <th>ID</th>\n",
       "      <th>Age</th>\n",
       "      <th>Hours_per_day</th>\n",
       "      <th>BPM</th>\n",
       "      <th>Anxiety</th>\n",
       "      <th>Depression</th>\n",
       "      <th>Insomnia</th>\n",
       "      <th>OCD</th>\n",
       "      <th>While_working_No</th>\n",
       "      <th>While_working_Yes</th>\n",
       "      <th>...</th>\n",
       "      <th>Rock_Rarely</th>\n",
       "      <th>Rock_Sometimes</th>\n",
       "      <th>Rock_Very frequently</th>\n",
       "      <th>Video game music_Never</th>\n",
       "      <th>Video game music_Rarely</th>\n",
       "      <th>Video game music_Sometimes</th>\n",
       "      <th>Video game music_Very frequently</th>\n",
       "      <th>Music_effects_Improve</th>\n",
       "      <th>Music_effects_No effect</th>\n",
       "      <th>Music_effects_Worsen</th>\n",
       "    </tr>\n",
       "  </thead>\n",
       "  <tbody>\n",
       "    <tr>\n",
       "      <th>0</th>\n",
       "      <td>1</td>\n",
       "      <td>18</td>\n",
       "      <td>4.0</td>\n",
       "      <td>132</td>\n",
       "      <td>7.0</td>\n",
       "      <td>7</td>\n",
       "      <td>10</td>\n",
       "      <td>2.0</td>\n",
       "      <td>1</td>\n",
       "      <td>0</td>\n",
       "      <td>...</td>\n",
       "      <td>1</td>\n",
       "      <td>0</td>\n",
       "      <td>0</td>\n",
       "      <td>0</td>\n",
       "      <td>0</td>\n",
       "      <td>0</td>\n",
       "      <td>1</td>\n",
       "      <td>0</td>\n",
       "      <td>1</td>\n",
       "      <td>0</td>\n",
       "    </tr>\n",
       "    <tr>\n",
       "      <th>1</th>\n",
       "      <td>2</td>\n",
       "      <td>61</td>\n",
       "      <td>2.5</td>\n",
       "      <td>84</td>\n",
       "      <td>9.0</td>\n",
       "      <td>7</td>\n",
       "      <td>3</td>\n",
       "      <td>3.0</td>\n",
       "      <td>0</td>\n",
       "      <td>1</td>\n",
       "      <td>...</td>\n",
       "      <td>0</td>\n",
       "      <td>0</td>\n",
       "      <td>0</td>\n",
       "      <td>1</td>\n",
       "      <td>0</td>\n",
       "      <td>0</td>\n",
       "      <td>0</td>\n",
       "      <td>1</td>\n",
       "      <td>0</td>\n",
       "      <td>0</td>\n",
       "    </tr>\n",
       "    <tr>\n",
       "      <th>2</th>\n",
       "      <td>3</td>\n",
       "      <td>18</td>\n",
       "      <td>4.0</td>\n",
       "      <td>107</td>\n",
       "      <td>7.0</td>\n",
       "      <td>2</td>\n",
       "      <td>5</td>\n",
       "      <td>9.0</td>\n",
       "      <td>0</td>\n",
       "      <td>1</td>\n",
       "      <td>...</td>\n",
       "      <td>0</td>\n",
       "      <td>0</td>\n",
       "      <td>0</td>\n",
       "      <td>0</td>\n",
       "      <td>1</td>\n",
       "      <td>0</td>\n",
       "      <td>0</td>\n",
       "      <td>1</td>\n",
       "      <td>0</td>\n",
       "      <td>0</td>\n",
       "    </tr>\n",
       "    <tr>\n",
       "      <th>3</th>\n",
       "      <td>4</td>\n",
       "      <td>18</td>\n",
       "      <td>5.0</td>\n",
       "      <td>86</td>\n",
       "      <td>8.0</td>\n",
       "      <td>8</td>\n",
       "      <td>7</td>\n",
       "      <td>7.0</td>\n",
       "      <td>0</td>\n",
       "      <td>1</td>\n",
       "      <td>...</td>\n",
       "      <td>0</td>\n",
       "      <td>0</td>\n",
       "      <td>1</td>\n",
       "      <td>1</td>\n",
       "      <td>0</td>\n",
       "      <td>0</td>\n",
       "      <td>0</td>\n",
       "      <td>1</td>\n",
       "      <td>0</td>\n",
       "      <td>0</td>\n",
       "    </tr>\n",
       "    <tr>\n",
       "      <th>4</th>\n",
       "      <td>5</td>\n",
       "      <td>18</td>\n",
       "      <td>3.0</td>\n",
       "      <td>66</td>\n",
       "      <td>4.0</td>\n",
       "      <td>8</td>\n",
       "      <td>6</td>\n",
       "      <td>0.0</td>\n",
       "      <td>0</td>\n",
       "      <td>1</td>\n",
       "      <td>...</td>\n",
       "      <td>0</td>\n",
       "      <td>0</td>\n",
       "      <td>0</td>\n",
       "      <td>0</td>\n",
       "      <td>0</td>\n",
       "      <td>1</td>\n",
       "      <td>0</td>\n",
       "      <td>1</td>\n",
       "      <td>0</td>\n",
       "      <td>0</td>\n",
       "    </tr>\n",
       "  </tbody>\n",
       "</table>\n",
       "<p>5 rows × 95 columns</p>\n",
       "</div>"
      ],
      "text/plain": [
       "   ID  Age  Hours_per_day  BPM  Anxiety  Depression  Insomnia  OCD  \\\n",
       "0   1   18            4.0  132      7.0           7        10  2.0   \n",
       "1   2   61            2.5   84      9.0           7         3  3.0   \n",
       "2   3   18            4.0  107      7.0           2         5  9.0   \n",
       "3   4   18            5.0   86      8.0           8         7  7.0   \n",
       "4   5   18            3.0   66      4.0           8         6  0.0   \n",
       "\n",
       "   While_working_No  While_working_Yes  ...  Rock_Rarely  Rock_Sometimes  \\\n",
       "0                 1                  0  ...            1               0   \n",
       "1                 0                  1  ...            0               0   \n",
       "2                 0                  1  ...            0               0   \n",
       "3                 0                  1  ...            0               0   \n",
       "4                 0                  1  ...            0               0   \n",
       "\n",
       "   Rock_Very frequently  Video game music_Never  Video game music_Rarely  \\\n",
       "0                     0                       0                        0   \n",
       "1                     0                       1                        0   \n",
       "2                     0                       0                        1   \n",
       "3                     1                       1                        0   \n",
       "4                     0                       0                        0   \n",
       "\n",
       "   Video game music_Sometimes  Video game music_Very frequently  \\\n",
       "0                           0                                 1   \n",
       "1                           0                                 0   \n",
       "2                           0                                 0   \n",
       "3                           0                                 0   \n",
       "4                           1                                 0   \n",
       "\n",
       "   Music_effects_Improve  Music_effects_No effect  Music_effects_Worsen  \n",
       "0                      0                        1                     0  \n",
       "1                      1                        0                     0  \n",
       "2                      1                        0                     0  \n",
       "3                      1                        0                     0  \n",
       "4                      1                        0                     0  \n",
       "\n",
       "[5 rows x 95 columns]"
      ]
     },
     "execution_count": 3,
     "metadata": {},
     "output_type": "execute_result"
    }
   ],
   "source": [
    "df = pd.read_csv(\"D:\\School\\Final\\ML_data_unscaled_dummys_encoded.csv\")\n",
    "df.head()"
   ]
  },
  {
   "cell_type": "code",
   "execution_count": 4,
   "metadata": {},
   "outputs": [
    {
     "data": {
      "text/html": [
       "<div>\n",
       "<style scoped>\n",
       "    .dataframe tbody tr th:only-of-type {\n",
       "        vertical-align: middle;\n",
       "    }\n",
       "\n",
       "    .dataframe tbody tr th {\n",
       "        vertical-align: top;\n",
       "    }\n",
       "\n",
       "    .dataframe thead th {\n",
       "        text-align: right;\n",
       "    }\n",
       "</style>\n",
       "<table border=\"1\" class=\"dataframe\">\n",
       "  <thead>\n",
       "    <tr style=\"text-align: right;\">\n",
       "      <th></th>\n",
       "      <th>Age</th>\n",
       "      <th>Hours_per_day</th>\n",
       "      <th>BPM</th>\n",
       "      <th>Anxiety</th>\n",
       "      <th>Depression</th>\n",
       "      <th>Insomnia</th>\n",
       "      <th>OCD</th>\n",
       "      <th>While_working_No</th>\n",
       "      <th>While_working_Yes</th>\n",
       "      <th>Instrumentalist_No</th>\n",
       "      <th>...</th>\n",
       "      <th>Rap_Sometimes</th>\n",
       "      <th>Rap_Very frequently</th>\n",
       "      <th>Rock_Never</th>\n",
       "      <th>Rock_Rarely</th>\n",
       "      <th>Rock_Sometimes</th>\n",
       "      <th>Rock_Very frequently</th>\n",
       "      <th>Video game music_Never</th>\n",
       "      <th>Video game music_Rarely</th>\n",
       "      <th>Video game music_Sometimes</th>\n",
       "      <th>Video game music_Very frequently</th>\n",
       "    </tr>\n",
       "  </thead>\n",
       "  <tbody>\n",
       "    <tr>\n",
       "      <th>0</th>\n",
       "      <td>18</td>\n",
       "      <td>4.0</td>\n",
       "      <td>132</td>\n",
       "      <td>7.0</td>\n",
       "      <td>7</td>\n",
       "      <td>10</td>\n",
       "      <td>2.0</td>\n",
       "      <td>1</td>\n",
       "      <td>0</td>\n",
       "      <td>1</td>\n",
       "      <td>...</td>\n",
       "      <td>0</td>\n",
       "      <td>0</td>\n",
       "      <td>0</td>\n",
       "      <td>1</td>\n",
       "      <td>0</td>\n",
       "      <td>0</td>\n",
       "      <td>0</td>\n",
       "      <td>0</td>\n",
       "      <td>0</td>\n",
       "      <td>1</td>\n",
       "    </tr>\n",
       "    <tr>\n",
       "      <th>1</th>\n",
       "      <td>61</td>\n",
       "      <td>2.5</td>\n",
       "      <td>84</td>\n",
       "      <td>9.0</td>\n",
       "      <td>7</td>\n",
       "      <td>3</td>\n",
       "      <td>3.0</td>\n",
       "      <td>0</td>\n",
       "      <td>1</td>\n",
       "      <td>1</td>\n",
       "      <td>...</td>\n",
       "      <td>0</td>\n",
       "      <td>0</td>\n",
       "      <td>1</td>\n",
       "      <td>0</td>\n",
       "      <td>0</td>\n",
       "      <td>0</td>\n",
       "      <td>1</td>\n",
       "      <td>0</td>\n",
       "      <td>0</td>\n",
       "      <td>0</td>\n",
       "    </tr>\n",
       "    <tr>\n",
       "      <th>2</th>\n",
       "      <td>18</td>\n",
       "      <td>4.0</td>\n",
       "      <td>107</td>\n",
       "      <td>7.0</td>\n",
       "      <td>2</td>\n",
       "      <td>5</td>\n",
       "      <td>9.0</td>\n",
       "      <td>0</td>\n",
       "      <td>1</td>\n",
       "      <td>1</td>\n",
       "      <td>...</td>\n",
       "      <td>0</td>\n",
       "      <td>1</td>\n",
       "      <td>1</td>\n",
       "      <td>0</td>\n",
       "      <td>0</td>\n",
       "      <td>0</td>\n",
       "      <td>0</td>\n",
       "      <td>1</td>\n",
       "      <td>0</td>\n",
       "      <td>0</td>\n",
       "    </tr>\n",
       "    <tr>\n",
       "      <th>3</th>\n",
       "      <td>18</td>\n",
       "      <td>5.0</td>\n",
       "      <td>86</td>\n",
       "      <td>8.0</td>\n",
       "      <td>8</td>\n",
       "      <td>7</td>\n",
       "      <td>7.0</td>\n",
       "      <td>0</td>\n",
       "      <td>1</td>\n",
       "      <td>0</td>\n",
       "      <td>...</td>\n",
       "      <td>0</td>\n",
       "      <td>1</td>\n",
       "      <td>0</td>\n",
       "      <td>0</td>\n",
       "      <td>0</td>\n",
       "      <td>1</td>\n",
       "      <td>1</td>\n",
       "      <td>0</td>\n",
       "      <td>0</td>\n",
       "      <td>0</td>\n",
       "    </tr>\n",
       "    <tr>\n",
       "      <th>4</th>\n",
       "      <td>18</td>\n",
       "      <td>3.0</td>\n",
       "      <td>66</td>\n",
       "      <td>4.0</td>\n",
       "      <td>8</td>\n",
       "      <td>6</td>\n",
       "      <td>0.0</td>\n",
       "      <td>0</td>\n",
       "      <td>1</td>\n",
       "      <td>0</td>\n",
       "      <td>...</td>\n",
       "      <td>0</td>\n",
       "      <td>0</td>\n",
       "      <td>1</td>\n",
       "      <td>0</td>\n",
       "      <td>0</td>\n",
       "      <td>0</td>\n",
       "      <td>0</td>\n",
       "      <td>0</td>\n",
       "      <td>1</td>\n",
       "      <td>0</td>\n",
       "    </tr>\n",
       "  </tbody>\n",
       "</table>\n",
       "<p>5 rows × 91 columns</p>\n",
       "</div>"
      ],
      "text/plain": [
       "   Age  Hours_per_day  BPM  Anxiety  Depression  Insomnia  OCD  \\\n",
       "0   18            4.0  132      7.0           7        10  2.0   \n",
       "1   61            2.5   84      9.0           7         3  3.0   \n",
       "2   18            4.0  107      7.0           2         5  9.0   \n",
       "3   18            5.0   86      8.0           8         7  7.0   \n",
       "4   18            3.0   66      4.0           8         6  0.0   \n",
       "\n",
       "   While_working_No  While_working_Yes  Instrumentalist_No  ...  \\\n",
       "0                 1                  0                   1  ...   \n",
       "1                 0                  1                   1  ...   \n",
       "2                 0                  1                   1  ...   \n",
       "3                 0                  1                   0  ...   \n",
       "4                 0                  1                   0  ...   \n",
       "\n",
       "   Rap_Sometimes  Rap_Very frequently  Rock_Never  Rock_Rarely  \\\n",
       "0              0                    0           0            1   \n",
       "1              0                    0           1            0   \n",
       "2              0                    1           1            0   \n",
       "3              0                    1           0            0   \n",
       "4              0                    0           1            0   \n",
       "\n",
       "   Rock_Sometimes  Rock_Very frequently  Video game music_Never  \\\n",
       "0               0                     0                       0   \n",
       "1               0                     0                       1   \n",
       "2               0                     0                       0   \n",
       "3               0                     1                       1   \n",
       "4               0                     0                       0   \n",
       "\n",
       "   Video game music_Rarely  Video game music_Sometimes  \\\n",
       "0                        0                           0   \n",
       "1                        0                           0   \n",
       "2                        1                           0   \n",
       "3                        0                           0   \n",
       "4                        0                           1   \n",
       "\n",
       "   Video game music_Very frequently  \n",
       "0                                 1  \n",
       "1                                 0  \n",
       "2                                 0  \n",
       "3                                 0  \n",
       "4                                 0  \n",
       "\n",
       "[5 rows x 91 columns]"
      ]
     },
     "execution_count": 4,
     "metadata": {},
     "output_type": "execute_result"
    }
   ],
   "source": [
    "# Define the features set.\n",
    "X = df.copy()\n",
    "X = X.drop([\"ID\", \"Music_effects_Improve\", \"Music_effects_No effect\", \"Music_effects_Worsen\"], axis=1)\n",
    "X.head()"
   ]
  },
  {
   "cell_type": "code",
   "execution_count": 5,
   "metadata": {},
   "outputs": [],
   "source": [
    "# Define the target set.\n",
    "#y1 = df['Music_effects_Improve']\n",
    "#y2 = df['Music_effects_No effect']\n",
    "#y3 = df['Music_effects_Worsen']\n",
    "\n",
    "#y = np.column_stack((y1, y2))"
   ]
  },
  {
   "cell_type": "code",
   "execution_count": 6,
   "metadata": {},
   "outputs": [],
   "source": [
    "y = df['Music_effects_Improve']"
   ]
  },
  {
   "cell_type": "code",
   "execution_count": 7,
   "metadata": {},
   "outputs": [],
   "source": [
    "from sklearn.model_selection import train_test_split\n",
    "from sklearn.metrics import confusion_matrix, accuracy_score, classification_report\n",
    "from sklearn.preprocessing import StandardScaler\n",
    "\n",
    "\n",
    "# Splitting into Train and Test sets.\n",
    "X_train, X_test, y_train, y_test = train_test_split(X, y, test_size=0.15, random_state=42)"
   ]
  },
  {
   "cell_type": "code",
   "execution_count": 8,
   "metadata": {},
   "outputs": [],
   "source": [
    "scaler = StandardScaler()\n",
    "# Fitting the Standard Scaler with the training data.\n",
    "X_scaler = scaler.fit(X_train)\n",
    "\n",
    "# Scaling the data.\n",
    "X_train_scaled = X_scaler.transform(X_train)\n",
    "X_test_scaled = X_scaler.transform(X_test)"
   ]
  },
  {
   "cell_type": "markdown",
   "metadata": {},
   "source": [
    "# Random Forest Classifier"
   ]
  },
  {
   "cell_type": "code",
   "execution_count": 9,
   "metadata": {},
   "outputs": [],
   "source": [
    "from sklearn.ensemble import RandomForestClassifier\n",
    "\n",
    "# Create a random forest classifier.\n",
    "rf_model = RandomForestClassifier(n_estimators=128, random_state=78)"
   ]
  },
  {
   "cell_type": "code",
   "execution_count": 10,
   "metadata": {},
   "outputs": [],
   "source": [
    "# Fitting the model\n",
    "rf_model = rf_model.fit(X_train,y_train)"
   ]
  },
  {
   "cell_type": "code",
   "execution_count": 11,
   "metadata": {},
   "outputs": [],
   "source": [
    "# Making predictions using the testing data.\n",
    "predictions = rf_model.predict(X_test_scaled)"
   ]
  },
  {
   "cell_type": "code",
   "execution_count": 12,
   "metadata": {},
   "outputs": [
    {
     "data": {
      "text/html": [
       "<div>\n",
       "<style scoped>\n",
       "    .dataframe tbody tr th:only-of-type {\n",
       "        vertical-align: middle;\n",
       "    }\n",
       "\n",
       "    .dataframe tbody tr th {\n",
       "        vertical-align: top;\n",
       "    }\n",
       "\n",
       "    .dataframe thead th {\n",
       "        text-align: right;\n",
       "    }\n",
       "</style>\n",
       "<table border=\"1\" class=\"dataframe\">\n",
       "  <thead>\n",
       "    <tr style=\"text-align: right;\">\n",
       "      <th></th>\n",
       "      <th>Predicted Improvement</th>\n",
       "      <th>Predicted No Improvement</th>\n",
       "    </tr>\n",
       "  </thead>\n",
       "  <tbody>\n",
       "    <tr>\n",
       "      <th>Actual Improvement</th>\n",
       "      <td>5</td>\n",
       "      <td>16</td>\n",
       "    </tr>\n",
       "    <tr>\n",
       "      <th>Actual No Improvement</th>\n",
       "      <td>12</td>\n",
       "      <td>60</td>\n",
       "    </tr>\n",
       "  </tbody>\n",
       "</table>\n",
       "</div>"
      ],
      "text/plain": [
       "                       Predicted Improvement  Predicted No Improvement\n",
       "Actual Improvement                         5                        16\n",
       "Actual No Improvement                     12                        60"
      ]
     },
     "execution_count": 12,
     "metadata": {},
     "output_type": "execute_result"
    }
   ],
   "source": [
    "# Calculating the confusion matrix.\n",
    "cm = confusion_matrix(y_test, predictions)\n",
    "\n",
    "\n",
    "# Create a DataFrame from the confusion matrix.\n",
    "cm_df = pd.DataFrame(cm, index=[\"Actual Improvement\", \"Actual No Improvement\"], columns=[\"Predicted Improvement\", \"Predicted No Improvement\"])\n",
    "\n",
    "cm_df"
   ]
  },
  {
   "cell_type": "code",
   "execution_count": 13,
   "metadata": {},
   "outputs": [
    {
     "data": {
      "text/plain": [
       "0.6989247311827957"
      ]
     },
     "execution_count": 13,
     "metadata": {},
     "output_type": "execute_result"
    }
   ],
   "source": [
    "# Calculating the accuracy score.\n",
    "acc_score = accuracy_score(y_test, predictions)\n",
    "acc_score"
   ]
  },
  {
   "cell_type": "code",
   "execution_count": 14,
   "metadata": {},
   "outputs": [
    {
     "name": "stdout",
     "output_type": "stream",
     "text": [
      "Confusion Matrix: Random Forest Classifier\n"
     ]
    },
    {
     "data": {
      "text/html": [
       "<div>\n",
       "<style scoped>\n",
       "    .dataframe tbody tr th:only-of-type {\n",
       "        vertical-align: middle;\n",
       "    }\n",
       "\n",
       "    .dataframe tbody tr th {\n",
       "        vertical-align: top;\n",
       "    }\n",
       "\n",
       "    .dataframe thead th {\n",
       "        text-align: right;\n",
       "    }\n",
       "</style>\n",
       "<table border=\"1\" class=\"dataframe\">\n",
       "  <thead>\n",
       "    <tr style=\"text-align: right;\">\n",
       "      <th></th>\n",
       "      <th>Predicted Improvement</th>\n",
       "      <th>Predicted No Improvement</th>\n",
       "    </tr>\n",
       "  </thead>\n",
       "  <tbody>\n",
       "    <tr>\n",
       "      <th>Actual Improvement</th>\n",
       "      <td>5</td>\n",
       "      <td>16</td>\n",
       "    </tr>\n",
       "    <tr>\n",
       "      <th>Actual No Improvement</th>\n",
       "      <td>12</td>\n",
       "      <td>60</td>\n",
       "    </tr>\n",
       "  </tbody>\n",
       "</table>\n",
       "</div>"
      ],
      "text/plain": [
       "                       Predicted Improvement  Predicted No Improvement\n",
       "Actual Improvement                         5                        16\n",
       "Actual No Improvement                     12                        60"
      ]
     },
     "metadata": {},
     "output_type": "display_data"
    },
    {
     "name": "stdout",
     "output_type": "stream",
     "text": [
      "Accuracy Score : 0.6989247311827957\n",
      "Classification Report\n",
      "              precision    recall  f1-score   support\n",
      "\n",
      "           0       0.29      0.24      0.26        21\n",
      "           1       0.79      0.83      0.81        72\n",
      "\n",
      "    accuracy                           0.70        93\n",
      "   macro avg       0.54      0.54      0.54        93\n",
      "weighted avg       0.68      0.70      0.69        93\n",
      "\n"
     ]
    }
   ],
   "source": [
    "# Displaying results\n",
    "print(\"Confusion Matrix: Random Forest Classifier\")\n",
    "display(cm_df)\n",
    "print(f\"Accuracy Score : {acc_score}\")\n",
    "print(\"Classification Report\")\n",
    "print(classification_report(y_test, predictions))"
   ]
  },
  {
   "cell_type": "code",
   "execution_count": 15,
   "metadata": {},
   "outputs": [
    {
     "data": {
      "text/plain": [
       "[(0.056680015960148517, 'BPM'),\n",
       " (0.05469908001354058, 'Age'),\n",
       " (0.0522127983930572, 'Anxiety'),\n",
       " (0.049165725858844364, 'Depression'),\n",
       " (0.041515706652727295, 'Hours_per_day'),\n",
       " (0.03935796139298983, 'Insomnia'),\n",
       " (0.03857837323349847, 'OCD'),\n",
       " (0.013195488096338408, 'Gospel_Never'),\n",
       " (0.011611413295470545, 'Jazz_Never'),\n",
       " (0.011203809229101977, 'Exploratory_No'),\n",
       " (0.010991064318914537, 'Pop_Sometimes'),\n",
       " (0.010922759675753457, 'Classical_Never'),\n",
       " (0.010837763449293223, 'Jazz_Rarely'),\n",
       " (0.010830713614619274, 'Hip hop_Never'),\n",
       " (0.01082866026436064, 'Rock_Very frequently'),\n",
       " (0.010519790698044179, 'Video game music_Never'),\n",
       " (0.01049748047888505, 'While_working_No'),\n",
       " (0.010482849776186635, 'Exploratory_Yes'),\n",
       " (0.010477642670880596, 'Classical_Sometimes'),\n",
       " (0.010405299792520962, 'R_and_B_Rarely'),\n",
       " (0.010252868295783703, 'Pop_Rarely'),\n",
       " (0.010161868040497245, 'Lofi_Never'),\n",
       " (0.010034275268740418, 'Latin_Rarely'),\n",
       " (0.010008407888178212, 'Rap_Rarely'),\n",
       " (0.009914437904108078, 'Country_Rarely'),\n",
       " (0.009905594240001531, 'Foreign_languages_Yes'),\n",
       " (0.009794370308126849, 'Video game music_Very frequently'),\n",
       " (0.009791752958966395, 'Pop_Very frequently'),\n",
       " (0.009669870262330354, 'Metal_Never'),\n",
       " (0.00965070685361648, 'EDM_Never'),\n",
       " (0.009321763574083946, 'Classical_Rarely'),\n",
       " (0.009267107749719816, 'Fav_genre_Video game music'),\n",
       " (0.009181141034359137, 'Lofi_Rarely'),\n",
       " (0.009158794815378077, 'Metal_Rarely'),\n",
       " (0.0091565692138435, 'R_and_B_Never'),\n",
       " (0.009133361258783822, 'K_pop_Never'),\n",
       " (0.009111245961020054, 'Video game music_Rarely'),\n",
       " (0.009105288639895622, 'Hip hop_Sometimes'),\n",
       " (0.009078829971026447, 'Hip hop_Rarely'),\n",
       " (0.009056533588251852, 'Jazz_Sometimes'),\n",
       " (0.009004000372860269, 'EDM_Rarely'),\n",
       " (0.008881220371296981, 'Classical_Very frequently'),\n",
       " (0.008851990261703989, 'Instrumentalist_No'),\n",
       " (0.008847700453438785, 'Fav_genre_Rock'),\n",
       " (0.008818676420598198, 'Latin_Never'),\n",
       " (0.008774481818932612, 'Country_Never'),\n",
       " (0.008666757968613267, 'Rap_Sometimes'),\n",
       " (0.008531987672396069, 'Folk_Rarely'),\n",
       " (0.008515166650862285, 'Folk_Never'),\n",
       " (0.008467598510541805, 'Rock_Sometimes'),\n",
       " (0.008420285213026988, 'While_working_Yes'),\n",
       " (0.008261338237776299, 'Rap_Very frequently'),\n",
       " (0.008260125951825088, 'Instrumentalist_Yes'),\n",
       " (0.008241655323848142, 'Rap_Never'),\n",
       " (0.008170156743432097, 'EDM_Sometimes'),\n",
       " (0.008100359125709593, 'Fav_genre_Pop'),\n",
       " (0.007897812480095023, 'Gospel_Rarely'),\n",
       " (0.007891858282939621, 'Metal_Very frequently'),\n",
       " (0.007838417338932539, 'Video game music_Sometimes'),\n",
       " (0.007764762421073511, 'Folk_Very frequently'),\n",
       " (0.00734248681367668, 'Foreign_languages_No'),\n",
       " (0.007291722790906733, 'Lofi_Sometimes'),\n",
       " (0.007177774702354041, 'EDM_Very frequently'),\n",
       " (0.006872917075564689, 'Fav_genre_Other'),\n",
       " (0.006807695981517415, 'Hip hop_Very frequently'),\n",
       " (0.006802463120749615, 'R_and_B_Sometimes'),\n",
       " (0.006727939274603665, 'Folk_Sometimes'),\n",
       " (0.0066959088157997546, 'K_pop_Rarely'),\n",
       " (0.006567727830240651, 'Composer_Yes'),\n",
       " (0.006441182344994654, 'Composer_No'),\n",
       " (0.006213189458084478, 'Rock_Rarely'),\n",
       " (0.006145473227076231, 'Latin_Sometimes'),\n",
       " (0.006075806556172647, 'R_and_B_Very frequently'),\n",
       " (0.0059442527215088576, 'Metal_Sometimes'),\n",
       " (0.005908594007291826, 'Country_Sometimes'),\n",
       " (0.005886735900789494, 'Country_Very frequently'),\n",
       " (0.005829614267417346, 'Rock_Never'),\n",
       " (0.005759576957959375, 'Fav_genre_Classical'),\n",
       " (0.005590695045446232, 'Fav_genre_Metal'),\n",
       " (0.005344197211079354, 'Lofi_Very frequently'),\n",
       " (0.0050510323549940814, 'K_pop_Very frequently'),\n",
       " (0.004972703677000762, 'Pop_Never'),\n",
       " (0.004890607566497687, 'Gospel_Sometimes'),\n",
       " (0.004776434222201323, 'Jazz_Very frequently'),\n",
       " (0.003897966093052095, 'K_pop_Sometimes'),\n",
       " (0.0034864718967462407, 'Fav_genre_EDM'),\n",
       " (0.0031683150237130655, 'Fav_genre_R&B'),\n",
       " (0.0029226300902439606, 'Latin_Very frequently'),\n",
       " (0.0026560137242544004, 'Fav_genre_Folk'),\n",
       " (0.002357635938086047, 'Fav_genre_Hip hop'),\n",
       " (0.0004186989981861888, 'Gospel_Very frequently')]"
      ]
     },
     "execution_count": 15,
     "metadata": {},
     "output_type": "execute_result"
    }
   ],
   "source": [
    "importances = rf_model.feature_importances_\n",
    "sorted(zip(rf_model.feature_importances_, X.columns), reverse=True)"
   ]
  },
  {
   "attachments": {},
   "cell_type": "markdown",
   "metadata": {},
   "source": [
    "# Easy Ensemble AdaBoost Classifier"
   ]
  },
  {
   "cell_type": "code",
   "execution_count": 16,
   "metadata": {},
   "outputs": [
    {
     "data": {
      "text/plain": [
       "EasyEnsembleClassifier(n_estimators=100, random_state=1)"
      ]
     },
     "execution_count": 16,
     "metadata": {},
     "output_type": "execute_result"
    }
   ],
   "source": [
    "# Train the EasyEnsembleClassifier\n",
    "from imblearn.ensemble import EasyEnsembleClassifier\n",
    "\n",
    "eec = EasyEnsembleClassifier(n_estimators=100, random_state=1)\n",
    "eec.fit(X_train, y_train)"
   ]
  },
  {
   "cell_type": "code",
   "execution_count": 17,
   "metadata": {},
   "outputs": [
    {
     "name": "stdout",
     "output_type": "stream",
     "text": [
      "0.5806451612903226\n"
     ]
    }
   ],
   "source": [
    "# Calculated the accuracy score\n",
    "y_pred = eec.predict(X_test)\n",
    "\n",
    "acc_score2 = accuracy_score(y_test, y_pred)\n",
    "print(acc_score2)"
   ]
  },
  {
   "cell_type": "code",
   "execution_count": 18,
   "metadata": {},
   "outputs": [],
   "source": [
    "cm2 = confusion_matrix(y_test, y_pred)\n",
    "\n",
    "\n",
    "# Create a DataFrame from the confusion matrix.\n",
    "cm_df2 = pd.DataFrame(\n",
    "    cm2, index=[\"Actual Improvement\", \"No Effect\"], columns=[\"Actual Improvement\", \"Predicted No Effect\"])\n"
   ]
  },
  {
   "cell_type": "code",
   "execution_count": 19,
   "metadata": {},
   "outputs": [
    {
     "name": "stdout",
     "output_type": "stream",
     "text": [
      "Confusion Matrix: Easy Ensemble AdaBoost Classifier\n"
     ]
    },
    {
     "data": {
      "text/html": [
       "<div>\n",
       "<style scoped>\n",
       "    .dataframe tbody tr th:only-of-type {\n",
       "        vertical-align: middle;\n",
       "    }\n",
       "\n",
       "    .dataframe tbody tr th {\n",
       "        vertical-align: top;\n",
       "    }\n",
       "\n",
       "    .dataframe thead th {\n",
       "        text-align: right;\n",
       "    }\n",
       "</style>\n",
       "<table border=\"1\" class=\"dataframe\">\n",
       "  <thead>\n",
       "    <tr style=\"text-align: right;\">\n",
       "      <th></th>\n",
       "      <th>Actual Improvement</th>\n",
       "      <th>Predicted No Effect</th>\n",
       "    </tr>\n",
       "  </thead>\n",
       "  <tbody>\n",
       "    <tr>\n",
       "      <th>Actual Improvement</th>\n",
       "      <td>12</td>\n",
       "      <td>9</td>\n",
       "    </tr>\n",
       "    <tr>\n",
       "      <th>No Effect</th>\n",
       "      <td>30</td>\n",
       "      <td>42</td>\n",
       "    </tr>\n",
       "  </tbody>\n",
       "</table>\n",
       "</div>"
      ],
      "text/plain": [
       "                    Actual Improvement  Predicted No Effect\n",
       "Actual Improvement                  12                    9\n",
       "No Effect                           30                   42"
      ]
     },
     "metadata": {},
     "output_type": "display_data"
    },
    {
     "name": "stdout",
     "output_type": "stream",
     "text": [
      "Accuracy Score : 0.5806451612903226\n",
      "Classification Report\n",
      "              precision    recall  f1-score   support\n",
      "\n",
      "           0       0.29      0.57      0.38        21\n",
      "           1       0.82      0.58      0.68        72\n",
      "\n",
      "    accuracy                           0.58        93\n",
      "   macro avg       0.55      0.58      0.53        93\n",
      "weighted avg       0.70      0.58      0.61        93\n",
      "\n"
     ]
    }
   ],
   "source": [
    "print(\"Confusion Matrix: Easy Ensemble AdaBoost Classifier\")\n",
    "display(cm_df2)\n",
    "print(f\"Accuracy Score : {acc_score2}\")\n",
    "print(\"Classification Report\")\n",
    "print(classification_report(y_test, y_pred))"
   ]
  },
  {
   "attachments": {},
   "cell_type": "markdown",
   "metadata": {},
   "source": [
    "# Naive Random Oversampling"
   ]
  },
  {
   "cell_type": "code",
   "execution_count": 20,
   "metadata": {},
   "outputs": [],
   "source": [
    "# Resample the training data with the RandomOversampler\n",
    "from numpy import array\n",
    "from imblearn.over_sampling import RandomOverSampler\n",
    "\n",
    "ros = RandomOverSampler(random_state=1)\n",
    "X_resampled, y_resampled = ros.fit_resample(X_train, y_train)\n",
    "\n",
    "#Counter(y_resampled)"
   ]
  },
  {
   "cell_type": "code",
   "execution_count": 21,
   "metadata": {},
   "outputs": [
    {
     "data": {
      "text/plain": [
       "LogisticRegression(random_state=1)"
      ]
     },
     "execution_count": 21,
     "metadata": {},
     "output_type": "execute_result"
    }
   ],
   "source": [
    "# Train the Logistic Regression model using the resampled data\n",
    "from sklearn.linear_model import LogisticRegression\n",
    "\n",
    "model3 = LogisticRegression(random_state=1)\n",
    "model3.fit(X_resampled, y_resampled)"
   ]
  },
  {
   "cell_type": "code",
   "execution_count": 22,
   "metadata": {},
   "outputs": [
    {
     "data": {
      "text/html": [
       "<div>\n",
       "<style scoped>\n",
       "    .dataframe tbody tr th:only-of-type {\n",
       "        vertical-align: middle;\n",
       "    }\n",
       "\n",
       "    .dataframe tbody tr th {\n",
       "        vertical-align: top;\n",
       "    }\n",
       "\n",
       "    .dataframe thead th {\n",
       "        text-align: right;\n",
       "    }\n",
       "</style>\n",
       "<table border=\"1\" class=\"dataframe\">\n",
       "  <thead>\n",
       "    <tr style=\"text-align: right;\">\n",
       "      <th></th>\n",
       "      <th>Prediction</th>\n",
       "      <th>Actual</th>\n",
       "    </tr>\n",
       "  </thead>\n",
       "  <tbody>\n",
       "    <tr>\n",
       "      <th>0</th>\n",
       "      <td>0</td>\n",
       "      <td>0</td>\n",
       "    </tr>\n",
       "    <tr>\n",
       "      <th>1</th>\n",
       "      <td>0</td>\n",
       "      <td>1</td>\n",
       "    </tr>\n",
       "    <tr>\n",
       "      <th>2</th>\n",
       "      <td>0</td>\n",
       "      <td>1</td>\n",
       "    </tr>\n",
       "    <tr>\n",
       "      <th>3</th>\n",
       "      <td>0</td>\n",
       "      <td>1</td>\n",
       "    </tr>\n",
       "    <tr>\n",
       "      <th>4</th>\n",
       "      <td>0</td>\n",
       "      <td>1</td>\n",
       "    </tr>\n",
       "    <tr>\n",
       "      <th>5</th>\n",
       "      <td>0</td>\n",
       "      <td>1</td>\n",
       "    </tr>\n",
       "    <tr>\n",
       "      <th>6</th>\n",
       "      <td>0</td>\n",
       "      <td>1</td>\n",
       "    </tr>\n",
       "    <tr>\n",
       "      <th>7</th>\n",
       "      <td>0</td>\n",
       "      <td>0</td>\n",
       "    </tr>\n",
       "    <tr>\n",
       "      <th>8</th>\n",
       "      <td>0</td>\n",
       "      <td>0</td>\n",
       "    </tr>\n",
       "    <tr>\n",
       "      <th>9</th>\n",
       "      <td>0</td>\n",
       "      <td>1</td>\n",
       "    </tr>\n",
       "    <tr>\n",
       "      <th>10</th>\n",
       "      <td>0</td>\n",
       "      <td>1</td>\n",
       "    </tr>\n",
       "    <tr>\n",
       "      <th>11</th>\n",
       "      <td>0</td>\n",
       "      <td>1</td>\n",
       "    </tr>\n",
       "    <tr>\n",
       "      <th>12</th>\n",
       "      <td>0</td>\n",
       "      <td>1</td>\n",
       "    </tr>\n",
       "    <tr>\n",
       "      <th>13</th>\n",
       "      <td>0</td>\n",
       "      <td>1</td>\n",
       "    </tr>\n",
       "    <tr>\n",
       "      <th>14</th>\n",
       "      <td>0</td>\n",
       "      <td>1</td>\n",
       "    </tr>\n",
       "    <tr>\n",
       "      <th>15</th>\n",
       "      <td>0</td>\n",
       "      <td>1</td>\n",
       "    </tr>\n",
       "    <tr>\n",
       "      <th>16</th>\n",
       "      <td>0</td>\n",
       "      <td>1</td>\n",
       "    </tr>\n",
       "    <tr>\n",
       "      <th>17</th>\n",
       "      <td>0</td>\n",
       "      <td>1</td>\n",
       "    </tr>\n",
       "    <tr>\n",
       "      <th>18</th>\n",
       "      <td>0</td>\n",
       "      <td>1</td>\n",
       "    </tr>\n",
       "    <tr>\n",
       "      <th>19</th>\n",
       "      <td>0</td>\n",
       "      <td>1</td>\n",
       "    </tr>\n",
       "  </tbody>\n",
       "</table>\n",
       "</div>"
      ],
      "text/plain": [
       "    Prediction  Actual\n",
       "0            0       0\n",
       "1            0       1\n",
       "2            0       1\n",
       "3            0       1\n",
       "4            0       1\n",
       "5            0       1\n",
       "6            0       1\n",
       "7            0       0\n",
       "8            0       0\n",
       "9            0       1\n",
       "10           0       1\n",
       "11           0       1\n",
       "12           0       1\n",
       "13           0       1\n",
       "14           0       1\n",
       "15           0       1\n",
       "16           0       1\n",
       "17           0       1\n",
       "18           0       1\n",
       "19           0       1"
      ]
     },
     "execution_count": 22,
     "metadata": {},
     "output_type": "execute_result"
    }
   ],
   "source": [
    "y_pred2 = model3.predict(X_test)\n",
    "\n",
    "results = pd.DataFrame({\"Prediction\": y_pred2, \"Actual\": y_test}).reset_index(drop=True)\n",
    "results.head(20)"
   ]
  },
  {
   "cell_type": "code",
   "execution_count": 23,
   "metadata": {},
   "outputs": [
    {
     "data": {
      "text/plain": [
       "0.22580645161290322"
      ]
     },
     "execution_count": 23,
     "metadata": {},
     "output_type": "execute_result"
    }
   ],
   "source": [
    "# Calculated the  accuracy score\n",
    "\n",
    "ovr_bal_acc_score= accuracy_score(y_test, y_pred2)\n",
    "ovr_bal_acc_score"
   ]
  },
  {
   "cell_type": "code",
   "execution_count": 24,
   "metadata": {},
   "outputs": [],
   "source": [
    "cm3 = confusion_matrix(y_test, y_pred2)\n",
    "\n",
    "\n",
    "# Create a DataFrame from the confusion matrix.\n",
    "cm_df3 = pd.DataFrame(\n",
    "    cm3, index=[\"Actual Improvement\", \"No Effect\"], columns=[\"Actual Improvement\", \"Predicted No Effect\"])"
   ]
  },
  {
   "cell_type": "code",
   "execution_count": 25,
   "metadata": {},
   "outputs": [
    {
     "name": "stdout",
     "output_type": "stream",
     "text": [
      "Confusion Matrix: Naive Random Oversampling\n"
     ]
    },
    {
     "data": {
      "text/html": [
       "<div>\n",
       "<style scoped>\n",
       "    .dataframe tbody tr th:only-of-type {\n",
       "        vertical-align: middle;\n",
       "    }\n",
       "\n",
       "    .dataframe tbody tr th {\n",
       "        vertical-align: top;\n",
       "    }\n",
       "\n",
       "    .dataframe thead th {\n",
       "        text-align: right;\n",
       "    }\n",
       "</style>\n",
       "<table border=\"1\" class=\"dataframe\">\n",
       "  <thead>\n",
       "    <tr style=\"text-align: right;\">\n",
       "      <th></th>\n",
       "      <th>Actual Improvement</th>\n",
       "      <th>Predicted No Effect</th>\n",
       "    </tr>\n",
       "  </thead>\n",
       "  <tbody>\n",
       "    <tr>\n",
       "      <th>Actual Improvement</th>\n",
       "      <td>21</td>\n",
       "      <td>0</td>\n",
       "    </tr>\n",
       "    <tr>\n",
       "      <th>No Effect</th>\n",
       "      <td>72</td>\n",
       "      <td>0</td>\n",
       "    </tr>\n",
       "  </tbody>\n",
       "</table>\n",
       "</div>"
      ],
      "text/plain": [
       "                    Actual Improvement  Predicted No Effect\n",
       "Actual Improvement                  21                    0\n",
       "No Effect                           72                    0"
      ]
     },
     "metadata": {},
     "output_type": "display_data"
    },
    {
     "name": "stdout",
     "output_type": "stream",
     "text": [
      "Accuracy Score : 0.22580645161290322\n",
      "Classification Report\n",
      "              precision    recall  f1-score   support\n",
      "\n",
      "           0       0.23      1.00      0.37        21\n",
      "           1       0.00      0.00      0.00        72\n",
      "\n",
      "    accuracy                           0.23        93\n",
      "   macro avg       0.11      0.50      0.18        93\n",
      "weighted avg       0.05      0.23      0.08        93\n",
      "\n"
     ]
    }
   ],
   "source": [
    "print(\"Confusion Matrix: Naive Random Oversampling\")\n",
    "display(cm_df3)\n",
    "print(f\"Accuracy Score : {ovr_bal_acc_score}\")\n",
    "print(\"Classification Report\")\n",
    "print(classification_report(y_test, y_pred2))"
   ]
  },
  {
   "attachments": {},
   "cell_type": "markdown",
   "metadata": {},
   "source": [
    "# SMOTE Oversampling"
   ]
  },
  {
   "cell_type": "code",
   "execution_count": 26,
   "metadata": {},
   "outputs": [],
   "source": [
    "# Resample the training data with SMOTE\n",
    "from imblearn.over_sampling import SMOTE\n",
    "\n",
    "X_resample2, y_resample2 = SMOTE(random_state=1, sampling_strategy='auto').fit_resample(X_train, y_train)"
   ]
  },
  {
   "cell_type": "code",
   "execution_count": 27,
   "metadata": {},
   "outputs": [],
   "source": [
    "# Train the Logistic Regression model using the resampled data\n",
    "model4 = LogisticRegression(random_state=1)\n",
    "\n",
    "model4.fit(X_resample2, y_resample2)\n",
    "y_pred_sm = model4.predict(X_test)"
   ]
  },
  {
   "cell_type": "code",
   "execution_count": 28,
   "metadata": {},
   "outputs": [
    {
     "data": {
      "text/plain": [
       "0.6881720430107527"
      ]
     },
     "execution_count": 28,
     "metadata": {},
     "output_type": "execute_result"
    }
   ],
   "source": [
    "# Calculated the balanced accuracy score\n",
    "\n",
    "acc_score3 = accuracy_score(y_test, y_pred_sm)\n",
    "acc_score3"
   ]
  },
  {
   "cell_type": "code",
   "execution_count": 29,
   "metadata": {},
   "outputs": [],
   "source": [
    "cm4 = confusion_matrix(y_test, y_pred_sm)\n",
    "\n",
    "\n",
    "# Create a DataFrame from the confusion matrix.\n",
    "cm_df4 = pd.DataFrame(\n",
    "    cm4, index=[\"Actual Improvement\", \"Actual No Effect\"], columns=[\"Actual Improvement\", \"Predicted No Effect\"])"
   ]
  },
  {
   "cell_type": "code",
   "execution_count": 30,
   "metadata": {},
   "outputs": [
    {
     "name": "stdout",
     "output_type": "stream",
     "text": [
      "Confusion Matrix: SMOTE\n"
     ]
    },
    {
     "data": {
      "text/html": [
       "<div>\n",
       "<style scoped>\n",
       "    .dataframe tbody tr th:only-of-type {\n",
       "        vertical-align: middle;\n",
       "    }\n",
       "\n",
       "    .dataframe tbody tr th {\n",
       "        vertical-align: top;\n",
       "    }\n",
       "\n",
       "    .dataframe thead th {\n",
       "        text-align: right;\n",
       "    }\n",
       "</style>\n",
       "<table border=\"1\" class=\"dataframe\">\n",
       "  <thead>\n",
       "    <tr style=\"text-align: right;\">\n",
       "      <th></th>\n",
       "      <th>Actual Improvement</th>\n",
       "      <th>Predicted No Effect</th>\n",
       "    </tr>\n",
       "  </thead>\n",
       "  <tbody>\n",
       "    <tr>\n",
       "      <th>Actual Improvement</th>\n",
       "      <td>5</td>\n",
       "      <td>16</td>\n",
       "    </tr>\n",
       "    <tr>\n",
       "      <th>Actual No Effect</th>\n",
       "      <td>13</td>\n",
       "      <td>59</td>\n",
       "    </tr>\n",
       "  </tbody>\n",
       "</table>\n",
       "</div>"
      ],
      "text/plain": [
       "                    Actual Improvement  Predicted No Effect\n",
       "Actual Improvement                   5                   16\n",
       "Actual No Effect                    13                   59"
      ]
     },
     "metadata": {},
     "output_type": "display_data"
    },
    {
     "name": "stdout",
     "output_type": "stream",
     "text": [
      "Accuracy Score : 0.6881720430107527\n",
      "Classification Report\n",
      "              precision    recall  f1-score   support\n",
      "\n",
      "           0       0.28      0.24      0.26        21\n",
      "           1       0.79      0.82      0.80        72\n",
      "\n",
      "    accuracy                           0.69        93\n",
      "   macro avg       0.53      0.53      0.53        93\n",
      "weighted avg       0.67      0.69      0.68        93\n",
      "\n"
     ]
    }
   ],
   "source": [
    "print(\"Confusion Matrix: SMOTE\")\n",
    "display(cm_df4)\n",
    "print(f\"Accuracy Score : {acc_score3}\")\n",
    "print(\"Classification Report\")\n",
    "print(classification_report(y_test, y_pred_sm))"
   ]
  },
  {
   "attachments": {},
   "cell_type": "markdown",
   "metadata": {},
   "source": [
    "# Undersampling"
   ]
  },
  {
   "cell_type": "code",
   "execution_count": 31,
   "metadata": {},
   "outputs": [
    {
     "data": {
      "text/plain": [
       "Counter({0: 130, 1: 130})"
      ]
     },
     "execution_count": 31,
     "metadata": {},
     "output_type": "execute_result"
    }
   ],
   "source": [
    "# Resample the data using the ClusterCentroids resampler\n",
    "from imblearn.under_sampling import ClusterCentroids\n",
    "\n",
    "cc = ClusterCentroids(random_state=1)\n",
    "X_resample3, y_resample3 = cc.fit_resample(X_train, y_train)\n",
    "Counter(y_resample3)"
   ]
  },
  {
   "cell_type": "code",
   "execution_count": 32,
   "metadata": {},
   "outputs": [],
   "source": [
    "# Train the Logistic Regression model using the resampled data\n",
    "\n",
    "model_under = LogisticRegression(random_state=1)\n",
    "model_under.fit(X_resample3, y_resample3)\n",
    "y_pred_cc = model_under.predict(X_test)"
   ]
  },
  {
   "cell_type": "code",
   "execution_count": 33,
   "metadata": {},
   "outputs": [
    {
     "data": {
      "text/plain": [
       "0.22580645161290322"
      ]
     },
     "execution_count": 33,
     "metadata": {},
     "output_type": "execute_result"
    }
   ],
   "source": [
    "# Calculated the balanced accuracy score\n",
    "\n",
    "acc_under = accuracy_score(y_test, y_pred_cc)\n",
    "acc_under"
   ]
  },
  {
   "cell_type": "code",
   "execution_count": 34,
   "metadata": {},
   "outputs": [],
   "source": [
    "cm5 = confusion_matrix(y_test, y_pred_cc)\n",
    "\n",
    "\n",
    "# Create a DataFrame from the confusion matrix.\n",
    "cm_df5 = pd.DataFrame(\n",
    "    cm5, index=[\"Actual Improvement\", \"Actual No Effect\"], columns=[\"Actual Improvement\", \"Predicted No Effect\"])"
   ]
  },
  {
   "cell_type": "code",
   "execution_count": 35,
   "metadata": {},
   "outputs": [
    {
     "name": "stdout",
     "output_type": "stream",
     "text": [
      "Confusion Matrix: Undersampling\n"
     ]
    },
    {
     "data": {
      "text/html": [
       "<div>\n",
       "<style scoped>\n",
       "    .dataframe tbody tr th:only-of-type {\n",
       "        vertical-align: middle;\n",
       "    }\n",
       "\n",
       "    .dataframe tbody tr th {\n",
       "        vertical-align: top;\n",
       "    }\n",
       "\n",
       "    .dataframe thead th {\n",
       "        text-align: right;\n",
       "    }\n",
       "</style>\n",
       "<table border=\"1\" class=\"dataframe\">\n",
       "  <thead>\n",
       "    <tr style=\"text-align: right;\">\n",
       "      <th></th>\n",
       "      <th>Actual Improvement</th>\n",
       "      <th>Predicted No Effect</th>\n",
       "    </tr>\n",
       "  </thead>\n",
       "  <tbody>\n",
       "    <tr>\n",
       "      <th>Actual Improvement</th>\n",
       "      <td>21</td>\n",
       "      <td>0</td>\n",
       "    </tr>\n",
       "    <tr>\n",
       "      <th>Actual No Effect</th>\n",
       "      <td>72</td>\n",
       "      <td>0</td>\n",
       "    </tr>\n",
       "  </tbody>\n",
       "</table>\n",
       "</div>"
      ],
      "text/plain": [
       "                    Actual Improvement  Predicted No Effect\n",
       "Actual Improvement                  21                    0\n",
       "Actual No Effect                    72                    0"
      ]
     },
     "metadata": {},
     "output_type": "display_data"
    },
    {
     "name": "stdout",
     "output_type": "stream",
     "text": [
      "Accuracy Score : 0.22580645161290322\n",
      "Classification Report\n",
      "              precision    recall  f1-score   support\n",
      "\n",
      "           0       0.23      1.00      0.37        21\n",
      "           1       0.00      0.00      0.00        72\n",
      "\n",
      "    accuracy                           0.23        93\n",
      "   macro avg       0.11      0.50      0.18        93\n",
      "weighted avg       0.05      0.23      0.08        93\n",
      "\n"
     ]
    }
   ],
   "source": [
    "print(\"Confusion Matrix: Undersampling\")\n",
    "display(cm_df5)\n",
    "print(f\"Accuracy Score : {acc_under}\")\n",
    "print(\"Classification Report\")\n",
    "print(classification_report(y_test, y_pred_cc))"
   ]
  },
  {
   "cell_type": "markdown",
   "metadata": {},
   "source": [
    "# SMOTEEM"
   ]
  },
  {
   "cell_type": "code",
   "execution_count": 36,
   "metadata": {},
   "outputs": [],
   "source": [
    "# Resample the training data with SMOTEENN\n",
    "\n",
    "from imblearn.combine import SMOTEENN\n",
    "\n",
    "smote_enn = SMOTEENN(random_state=1)\n",
    "X_resample4, y_resample4 = smote_enn.fit_resample(X, y)"
   ]
  },
  {
   "cell_type": "code",
   "execution_count": 37,
   "metadata": {},
   "outputs": [],
   "source": [
    "# Train the Logistic Regression model using the resampled data\n",
    "from sklearn.linear_model import LogisticRegression\n",
    "model = LogisticRegression(random_state=1)\n",
    "\n",
    "model.fit(X_resample4, y_resample4)\n",
    "\n",
    "y_pred_st = model.predict(X_test)"
   ]
  },
  {
   "cell_type": "code",
   "execution_count": 38,
   "metadata": {},
   "outputs": [
    {
     "data": {
      "text/plain": [
       "0.5161290322580645"
      ]
     },
     "execution_count": 38,
     "metadata": {},
     "output_type": "execute_result"
    }
   ],
   "source": [
    "acc_smoteem = accuracy_score(y_test, y_pred_st)\n",
    "acc_smoteem"
   ]
  },
  {
   "cell_type": "code",
   "execution_count": 39,
   "metadata": {},
   "outputs": [
    {
     "data": {
      "text/html": [
       "<div>\n",
       "<style scoped>\n",
       "    .dataframe tbody tr th:only-of-type {\n",
       "        vertical-align: middle;\n",
       "    }\n",
       "\n",
       "    .dataframe tbody tr th {\n",
       "        vertical-align: top;\n",
       "    }\n",
       "\n",
       "    .dataframe thead th {\n",
       "        text-align: right;\n",
       "    }\n",
       "</style>\n",
       "<table border=\"1\" class=\"dataframe\">\n",
       "  <thead>\n",
       "    <tr style=\"text-align: right;\">\n",
       "      <th></th>\n",
       "      <th>Predicted Improvement</th>\n",
       "      <th>Predicted No Effect</th>\n",
       "    </tr>\n",
       "  </thead>\n",
       "  <tbody>\n",
       "    <tr>\n",
       "      <th>Actual Improvement</th>\n",
       "      <td>17</td>\n",
       "      <td>4</td>\n",
       "    </tr>\n",
       "    <tr>\n",
       "      <th>Actual No Effect</th>\n",
       "      <td>41</td>\n",
       "      <td>31</td>\n",
       "    </tr>\n",
       "  </tbody>\n",
       "</table>\n",
       "</div>"
      ],
      "text/plain": [
       "                    Predicted Improvement  Predicted No Effect\n",
       "Actual Improvement                     17                    4\n",
       "Actual No Effect                       41                   31"
      ]
     },
     "execution_count": 39,
     "metadata": {},
     "output_type": "execute_result"
    }
   ],
   "source": [
    "matrix_st = confusion_matrix(y_test, y_pred_st)\n",
    "\n",
    "smoteem_df = pd.DataFrame(matrix_st, index=[\"Actual Improvement\", \"Actual No Effect\"], columns=[\"Predicted Improvement\", \"Predicted No Effect\"])\n",
    "smoteem_df"
   ]
  },
  {
   "cell_type": "code",
   "execution_count": 40,
   "metadata": {},
   "outputs": [
    {
     "name": "stdout",
     "output_type": "stream",
     "text": [
      "Confusion Matrix: SMOTEEM\n"
     ]
    },
    {
     "data": {
      "text/html": [
       "<div>\n",
       "<style scoped>\n",
       "    .dataframe tbody tr th:only-of-type {\n",
       "        vertical-align: middle;\n",
       "    }\n",
       "\n",
       "    .dataframe tbody tr th {\n",
       "        vertical-align: top;\n",
       "    }\n",
       "\n",
       "    .dataframe thead th {\n",
       "        text-align: right;\n",
       "    }\n",
       "</style>\n",
       "<table border=\"1\" class=\"dataframe\">\n",
       "  <thead>\n",
       "    <tr style=\"text-align: right;\">\n",
       "      <th></th>\n",
       "      <th>Predicted Improvement</th>\n",
       "      <th>Predicted No Effect</th>\n",
       "    </tr>\n",
       "  </thead>\n",
       "  <tbody>\n",
       "    <tr>\n",
       "      <th>Actual Improvement</th>\n",
       "      <td>17</td>\n",
       "      <td>4</td>\n",
       "    </tr>\n",
       "    <tr>\n",
       "      <th>Actual No Effect</th>\n",
       "      <td>41</td>\n",
       "      <td>31</td>\n",
       "    </tr>\n",
       "  </tbody>\n",
       "</table>\n",
       "</div>"
      ],
      "text/plain": [
       "                    Predicted Improvement  Predicted No Effect\n",
       "Actual Improvement                     17                    4\n",
       "Actual No Effect                       41                   31"
      ]
     },
     "metadata": {},
     "output_type": "display_data"
    },
    {
     "name": "stdout",
     "output_type": "stream",
     "text": [
      "Accuracy Score : 0.5161290322580645\n",
      "Classification Report\n",
      "              precision    recall  f1-score   support\n",
      "\n",
      "           0       0.29      0.81      0.43        21\n",
      "           1       0.89      0.43      0.58        72\n",
      "\n",
      "    accuracy                           0.52        93\n",
      "   macro avg       0.59      0.62      0.50        93\n",
      "weighted avg       0.75      0.52      0.55        93\n",
      "\n"
     ]
    }
   ],
   "source": [
    "print(\"Confusion Matrix: SMOTEEM\")\n",
    "display(smoteem_df)\n",
    "print(f\"Accuracy Score : {acc_smoteem}\")\n",
    "print(\"Classification Report\")\n",
    "print(classification_report(y_test, y_pred_st))"
   ]
  }
 ],
 "metadata": {
  "kernelspec": {
   "display_name": "mlenv",
   "language": "python",
   "name": "mlenv"
  },
  "language_info": {
   "codemirror_mode": {
    "name": "ipython",
    "version": 3
   },
   "file_extension": ".py",
   "mimetype": "text/x-python",
   "name": "python",
   "nbconvert_exporter": "python",
   "pygments_lexer": "ipython3",
   "version": "3.7.13"
  },
  "orig_nbformat": 4,
  "vscode": {
   "interpreter": {
    "hash": "964f9f777e317b32dfd3e63cef6a6c47ac0d3d484d8ed080f955a3e2aff6833b"
   }
  }
 },
 "nbformat": 4,
 "nbformat_minor": 2
}
